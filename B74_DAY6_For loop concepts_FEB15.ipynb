{
 "cells": [
  {
   "cell_type": "code",
   "execution_count": 2,
   "id": "613b5d5d",
   "metadata": {},
   "outputs": [
    {
     "name": "stdout",
     "output_type": "stream",
     "text": [
      "['sunil', 'naveen', 'abdul', 'snehal', 'iqra', 'sadiya']\n"
     ]
    }
   ],
   "source": [
    "students=['sunil','naveen','abdul','snehal','iqra','sadiya']\n",
    "print(students)\n"
   ]
  },
  {
   "cell_type": "code",
   "execution_count": 3,
   "id": "7230aa79",
   "metadata": {},
   "outputs": [
    {
     "name": "stdout",
     "output_type": "stream",
     "text": [
      "sunil\n",
      "naveen\n",
      "abdul\n",
      "snehal\n",
      "iqra\n",
      "sadiya\n"
     ]
    }
   ],
   "source": [
    "for X in students:\n",
    "    print(X)"
   ]
  },
  {
   "cell_type": "code",
   "execution_count": 6,
   "id": "ababb966",
   "metadata": {},
   "outputs": [
    {
     "ename": "IndentationError",
     "evalue": "expected an indented block (1030855588.py, line 2)",
     "output_type": "error",
     "traceback": [
      "\u001b[1;36m  Input \u001b[1;32mIn [6]\u001b[1;36m\u001b[0m\n\u001b[1;33m    message=f\"Keep up the good work,{X}\"\u001b[0m\n\u001b[1;37m    ^\u001b[0m\n\u001b[1;31mIndentationError\u001b[0m\u001b[1;31m:\u001b[0m expected an indented block\n"
     ]
    }
   ],
   "source": [
    "for X in students:\n",
    "message=f\"Keep up the good work,{X}\"\n",
    "pr"
   ]
  },
  {
   "cell_type": "code",
   "execution_count": 8,
   "id": "d13645c1",
   "metadata": {},
   "outputs": [
    {
     "name": "stdout",
     "output_type": "stream",
     "text": [
      "Keep up the good work, sunil\n",
      "Keep up the good work, naveen\n",
      "Keep up the good work, abdul\n",
      "Keep up the good work, snehal\n",
      "Keep up the good work, iqra\n",
      "Keep up the good work, sadiya\n"
     ]
    }
   ],
   "source": [
    "for X in students:\n",
    "    print(f\"Keep up the good work, {X}\")"
   ]
  },
  {
   "cell_type": "code",
   "execution_count": 9,
   "id": "2cae09c8",
   "metadata": {},
   "outputs": [
    {
     "name": "stdout",
     "output_type": "stream",
     "text": [
      "Keep up the good work, sunil\n",
      " I will be looking forwards for todays submission,  sunil\n",
      "Keep up the good work, naveen\n",
      " I will be looking forwards for todays submission,  naveen\n",
      "Keep up the good work, abdul\n",
      " I will be looking forwards for todays submission,  abdul\n",
      "Keep up the good work, snehal\n",
      " I will be looking forwards for todays submission,  snehal\n",
      "Keep up the good work, iqra\n",
      " I will be looking forwards for todays submission,  iqra\n",
      "Keep up the good work, sadiya\n",
      " I will be looking forwards for todays submission,  sadiya\n"
     ]
    }
   ],
   "source": [
    "for X in students:\n",
    "    print(f\"Keep up the good work, {X}\")\n",
    "    print(f\" I will be looking forwards for todays submission,  {X}\")"
   ]
  },
  {
   "cell_type": "code",
   "execution_count": 10,
   "id": "a7cb7413",
   "metadata": {},
   "outputs": [
    {
     "name": "stdout",
     "output_type": "stream",
     "text": [
      "Keep up the good work, sunil\n",
      " I will be looking forwards for todays submission,  sunil\n",
      "\n",
      "Keep up the good work, naveen\n",
      " I will be looking forwards for todays submission,  naveen\n",
      "\n",
      "Keep up the good work, abdul\n",
      " I will be looking forwards for todays submission,  abdul\n",
      "\n",
      "Keep up the good work, snehal\n",
      " I will be looking forwards for todays submission,  snehal\n",
      "\n",
      "Keep up the good work, iqra\n",
      " I will be looking forwards for todays submission,  iqra\n",
      "\n",
      "Keep up the good work, sadiya\n",
      " I will be looking forwards for todays submission,  sadiya\n",
      "\n"
     ]
    }
   ],
   "source": [
    "for X in students:\n",
    "    print(f\"Keep up the good work, {X}\")\n",
    "    print(f\" I will be looking forwards for todays submission,  {X}\\n\")"
   ]
  },
  {
   "cell_type": "code",
   "execution_count": 17,
   "id": "011474bd",
   "metadata": {},
   "outputs": [
    {
     "name": "stdout",
     "output_type": "stream",
     "text": [
      "Keep up the good work, Sunil\n",
      "Keep up the good work, Naveen\n",
      "Keep up the good work, Abdul\n",
      "Keep up the good work, Snehal\n",
      "Keep up the good work, Iqra\n",
      "Keep up the good work, Sadiya\n"
     ]
    }
   ],
   "source": [
    "for ironman in students:\n",
    "    print(f\"Keep up the good work, {ironman.title()}\")"
   ]
  },
  {
   "cell_type": "code",
   "execution_count": 18,
   "id": "20f7ebd4",
   "metadata": {},
   "outputs": [
    {
     "name": "stdout",
     "output_type": "stream",
     "text": [
      "Keep up the good work, SUNIL\n",
      "Keep up the good work, NAVEEN\n",
      "Keep up the good work, ABDUL\n",
      "Keep up the good work, SNEHAL\n",
      "Keep up the good work, IQRA\n",
      "Keep up the good work, SADIYA\n"
     ]
    }
   ],
   "source": [
    "for X in students:\n",
    "    print(f\"Keep up the good work, {X.upper()}\")"
   ]
  },
  {
   "cell_type": "code",
   "execution_count": 19,
   "id": "7f60b686",
   "metadata": {},
   "outputs": [
    {
     "name": "stdout",
     "output_type": "stream",
     "text": [
      "Keep up the good work, sunil\n",
      " I will be looking forwards for todays submission,  Sunil\n",
      "\n",
      "Keep up the good work, naveen\n",
      " I will be looking forwards for todays submission,  Naveen\n",
      "\n",
      "Keep up the good work, abdul\n",
      " I will be looking forwards for todays submission,  Abdul\n",
      "\n",
      "Keep up the good work, snehal\n",
      " I will be looking forwards for todays submission,  Snehal\n",
      "\n",
      "Keep up the good work, iqra\n",
      " I will be looking forwards for todays submission,  Iqra\n",
      "\n",
      "Keep up the good work, sadiya\n",
      " I will be looking forwards for todays submission,  Sadiya\n",
      "\n"
     ]
    }
   ],
   "source": [
    "for X in students:\n",
    "    print(f\"Keep up the good work, {X}\")\n",
    "    print(f\" I will be looking forwards for todays submission,  {X.title()}\\n\")"
   ]
  },
  {
   "cell_type": "code",
   "execution_count": null,
   "id": "f901eedf",
   "metadata": {},
   "outputs": [],
   "source": []
  }
 ],
 "metadata": {
  "kernelspec": {
   "display_name": "Python 3 (ipykernel)",
   "language": "python",
   "name": "python3"
  },
  "language_info": {
   "codemirror_mode": {
    "name": "ipython",
    "version": 3
   },
   "file_extension": ".py",
   "mimetype": "text/x-python",
   "name": "python",
   "nbconvert_exporter": "python",
   "pygments_lexer": "ipython3",
   "version": "3.9.12"
  }
 },
 "nbformat": 4,
 "nbformat_minor": 5
}
